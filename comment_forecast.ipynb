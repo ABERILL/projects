{
 "cells": [
  {
   "cell_type": "code",
   "execution_count": 1,
   "metadata": {},
   "outputs": [],
   "source": [
    "from vk_api import VkApi\n",
    "import vk_api\n",
    "import vk\n",
    "import pandas as pd\n",
    "import numpy as np\n",
    "import tensorflow as tf\n",
    "from tensorflow import keras\n",
    "# from nltk.tokenize.casual import TweetTokenizer\n",
    "# from sklearn.feature_extraction.text import CountVectorizer\n",
    "from sklearn.model_selection import train_test_split\n",
    "import pymorphy2\n",
    "import nltk\n",
    "from nltk.tokenize import word_tokenize\n",
    "from nltk.stem import WordNetLemmatizer\n",
    "from sklearn.feature_extraction.text import TfidfVectorizer\n",
    "from keras.models import Sequential\n",
    "from keras.layers import Dense, Dropout\n",
    "from nltk.corpus import stopwords"
   ]
  },
  {
   "cell_type": "markdown",
   "metadata": {},
   "source": [
    "# Прогноз количества комментариев постов "
   ]
  },
  {
   "cell_type": "code",
   "execution_count": 2,
   "metadata": {},
   "outputs": [],
   "source": [
    "# id групп вк\n",
    "\n",
    "id_avia = '-39283725'\n",
    "id_moscow = '-137324015'\n",
    "id_nazem = '-212086355'\n",
    "mas_id = [id_avia, id_moscow, id_nazem]\n",
    "token = 'vk1.a.J6_ahUxPyWhFaYbShB5hkJ4hAYpwRE8oanqh1vLBPZOQ8bo7RzICWE1yuEhUs1iMWYTI-zalDHRr8V6NAS-12S-qYImDQT7sVejSI3_3SH1uaAIWrxkC5tljaQDAwd7O17rCrccRDEvf09rreDLBfPsVhRCQYdK_Yelswjs1homcD1B6MFHTVqvrfmyV2gZ_30kGH19ZsdDn3IA0EWZszg'\n"
   ]
  },
  {
   "cell_type": "markdown",
   "metadata": {},
   "source": [
    "Парсинг данных из групп вк"
   ]
  },
  {
   "cell_type": "code",
   "execution_count": 3,
   "metadata": {},
   "outputs": [
    {
     "name": "stdout",
     "output_type": "stream",
     "text": [
      "-39283725 0\n",
      "-39283725 100\n",
      "-39283725 200\n",
      "Постов больше нет на смещении:  300\n",
      "Постов больше нет на смещении:  0\n",
      "-137324015 100\n",
      "-137324015 200\n",
      "-137324015 300\n",
      "-212086355 0\n",
      "-212086355 100\n",
      "-212086355 200\n",
      "-212086355 300\n"
     ]
    }
   ],
   "source": [
    "\n",
    "# with open('C:/Users/Admin/Desktop/token.txt') as f:\n",
    "#      token = f.readlines()[0]\n",
    "\n",
    "#token = 'https: // oauth.vk.com/blank.html # access_token=vk1.a.J6_ahUxPyWhFaYbShB5hkJ4hAYpwRE8oanqh1vLBPZOQ8bo7RzICWE1yuEhUs1iMWYTI-zalDHRr8V6NAS-12S-qYImDQT7sVejSI3_3SH1uaAIWrxkC5tljaQDAwd7O17rCrccRDEvf09rreDLBfPsVhRCQYdK_Yelswjs1homcD1B6MFHTVqvrfmyV2gZ_30kGH19ZsdDn3IA0EWZszg&expires_in=0&user_id=257606113'\n",
    "token = token\n",
    "\n",
    "\n",
    "def main(offset: int, token: str, group_id: str):\n",
    "    vk = vk_api.VkApi(token=token)  # авторизация через токен (желательно)\n",
    "    api = vk.get_api()\n",
    "    posts = api.wall.get(owner_id=group_id, offset=offset, count=100)['items']\n",
    "    posts_strings = [post['text'] for post in posts]\n",
    "    num_like = []\n",
    "    comments_strings = []\n",
    "    for post in posts:\n",
    "        comments = api.wall.getComments(\n",
    "            owner_id=group_id, post_id=post['id'], count=100)['items']\n",
    "        comments_strings.append([comment['text'] for comment in comments])\n",
    "        itemID = post['id']\n",
    "        isLiked = api.likes.getList(\n",
    "            type='post',\n",
    "            owner_id=group_id,\n",
    "            item_id=itemID\n",
    "        )\n",
    "        num_like.append(isLiked['count'])\n",
    "    return posts_strings, comments_strings, num_like\n",
    "\n",
    "\n",
    "combo_list_posts = []\n",
    "combolist_comments = []\n",
    "combolist_like = []\n",
    "\n",
    "for group_id in mas_id:\n",
    "    for i in range(0, 301, 100):\n",
    "        try:\n",
    "            rzd_posts, comments_strings_rzd, rzd_like_count = main(\n",
    "                offset=i, token=token, group_id=group_id)\n",
    "            combo_list_posts.extend(rzd_posts)\n",
    "            combolist_comments.extend(comments_strings_rzd)\n",
    "            combolist_like.extend(rzd_like_count)\n",
    "            print(group_id, i)\n",
    "        except:\n",
    "            print('Постов больше нет на смещении: ', i)\n",
    "\n",
    "       \n"
   ]
  },
  {
   "cell_type": "code",
   "execution_count": 4,
   "metadata": {},
   "outputs": [],
   "source": [
    "combolist_comments_count = [len(comments) for comments in combolist_comments]\n"
   ]
  },
  {
   "cell_type": "code",
   "execution_count": 5,
   "metadata": {},
   "outputs": [
    {
     "data": {
      "text/html": [
       "<div>\n",
       "<style scoped>\n",
       "    .dataframe tbody tr th:only-of-type {\n",
       "        vertical-align: middle;\n",
       "    }\n",
       "\n",
       "    .dataframe tbody tr th {\n",
       "        vertical-align: top;\n",
       "    }\n",
       "\n",
       "    .dataframe thead th {\n",
       "        text-align: right;\n",
       "    }\n",
       "</style>\n",
       "<table border=\"1\" class=\"dataframe\">\n",
       "  <thead>\n",
       "    <tr style=\"text-align: right;\">\n",
       "      <th></th>\n",
       "      <th>Посты</th>\n",
       "      <th>Комментарии</th>\n",
       "    </tr>\n",
       "  </thead>\n",
       "  <tbody>\n",
       "    <tr>\n",
       "      <th>0</th>\n",
       "      <td>Петербургский Пулково (LED) стал двадцатым аэр...</td>\n",
       "      <td>1</td>\n",
       "    </tr>\n",
       "    <tr>\n",
       "      <th>1</th>\n",
       "      <td>Выбравшая путь полной импортонезависимости в с...</td>\n",
       "      <td>1</td>\n",
       "    </tr>\n",
       "    <tr>\n",
       "      <th>2</th>\n",
       "      <td>Компания \"Сирена\", ведущий российский поставщи...</td>\n",
       "      <td>1</td>\n",
       "    </tr>\n",
       "    <tr>\n",
       "      <th>3</th>\n",
       "      <td>Туркменская авиакомпания Turkmenistan Airlines...</td>\n",
       "      <td>1</td>\n",
       "    </tr>\n",
       "    <tr>\n",
       "      <th>4</th>\n",
       "      <td>Кэмпбелл Уилсон, президент Air India, в очеред...</td>\n",
       "      <td>1</td>\n",
       "    </tr>\n",
       "    <tr>\n",
       "      <th>...</th>\n",
       "      <td>...</td>\n",
       "      <td>...</td>\n",
       "    </tr>\n",
       "    <tr>\n",
       "      <th>995</th>\n",
       "      <td></td>\n",
       "      <td>1</td>\n",
       "    </tr>\n",
       "    <tr>\n",
       "      <th>996</th>\n",
       "      <td>🖥В парках Мосгортранса начали пользоваться ПАК...</td>\n",
       "      <td>1</td>\n",
       "    </tr>\n",
       "    <tr>\n",
       "      <th>997</th>\n",
       "      <td>🚐Мосгортранс протестирует электробус малого кл...</td>\n",
       "      <td>19</td>\n",
       "    </tr>\n",
       "    <tr>\n",
       "      <th>998</th>\n",
       "      <td></td>\n",
       "      <td>4</td>\n",
       "    </tr>\n",
       "    <tr>\n",
       "      <th>999</th>\n",
       "      <td>🎟В трамваях А контролеры подарили «Единые» — т...</td>\n",
       "      <td>1</td>\n",
       "    </tr>\n",
       "  </tbody>\n",
       "</table>\n",
       "<p>1000 rows × 2 columns</p>\n",
       "</div>"
      ],
      "text/plain": [
       "                                                 Посты  Комментарии\n",
       "0    Петербургский Пулково (LED) стал двадцатым аэр...            1\n",
       "1    Выбравшая путь полной импортонезависимости в с...            1\n",
       "2    Компания \"Сирена\", ведущий российский поставщи...            1\n",
       "3    Туркменская авиакомпания Turkmenistan Airlines...            1\n",
       "4    Кэмпбелл Уилсон, президент Air India, в очеред...            1\n",
       "..                                                 ...          ...\n",
       "995                                                               1\n",
       "996  🖥В парках Мосгортранса начали пользоваться ПАК...            1\n",
       "997  🚐Мосгортранс протестирует электробус малого кл...           19\n",
       "998                                                               4\n",
       "999  🎟В трамваях А контролеры подарили «Единые» — т...            1\n",
       "\n",
       "[1000 rows x 2 columns]"
      ]
     },
     "execution_count": 5,
     "metadata": {},
     "output_type": "execute_result"
    }
   ],
   "source": [
    "df = pd.DataFrame({'Посты': combo_list_posts,\n",
    "                  'Комментарии': combolist_comments_count})\n",
    "df\n"
   ]
  },
  {
   "cell_type": "code",
   "execution_count": 8,
   "metadata": {},
   "outputs": [
    {
     "data": {
      "text/plain": [
       "Посты          0\n",
       "Комментарии    0\n",
       "dtype: int64"
      ]
     },
     "execution_count": 8,
     "metadata": {},
     "output_type": "execute_result"
    }
   ],
   "source": [
    "df = df.drop_duplicates()\n",
    "df.isnull().sum()\n",
    "\n"
   ]
  },
  {
   "cell_type": "code",
   "execution_count": 9,
   "metadata": {},
   "outputs": [
    {
     "data": {
      "text/plain": [
       "5.034979423868313"
      ]
     },
     "execution_count": 9,
     "metadata": {},
     "output_type": "execute_result"
    }
   ],
   "source": [
    "df['Комментарии'].mean()\n"
   ]
  },
  {
   "cell_type": "code",
   "execution_count": 10,
   "metadata": {},
   "outputs": [
    {
     "name": "stderr",
     "output_type": "stream",
     "text": [
      "C:\\Users\\Admin\\AppData\\Local\\Temp\\ipykernel_6260\\2142041351.py:1: DeprecationWarning: `np.str` is a deprecated alias for the builtin `str`. To silence this warning, use `str` by itself. Doing this will not modify any behavior and is safe. If you specifically wanted the numpy scalar type, use `np.str_` here.\n",
      "Deprecated in NumPy 1.20; for more details and guidance: https://numpy.org/devdocs/release/1.20.0-notes.html#deprecations\n",
      "  df = df.astype({'Посты': np.str})\n"
     ]
    }
   ],
   "source": [
    "df = df.astype({'Посты': np.str})\n"
   ]
  },
  {
   "cell_type": "markdown",
   "metadata": {},
   "source": [
    "Токенизация"
   ]
  },
  {
   "cell_type": "code",
   "execution_count": 11,
   "metadata": {},
   "outputs": [
    {
     "name": "stderr",
     "output_type": "stream",
     "text": [
      "[nltk_data] Downloading package punkt to\n",
      "[nltk_data]     C:\\Users\\Admin\\AppData\\Roaming\\nltk_data...\n",
      "[nltk_data]   Package punkt is already up-to-date!\n",
      "[nltk_data] Downloading package wordnet to\n",
      "[nltk_data]     C:\\Users\\Admin\\AppData\\Roaming\\nltk_data...\n",
      "[nltk_data]   Package wordnet is already up-to-date!\n",
      "[nltk_data] Downloading package stopwords to\n",
      "[nltk_data]     C:\\Users\\Admin\\AppData\\Roaming\\nltk_data...\n",
      "[nltk_data]   Package stopwords is already up-to-date!\n"
     ]
    }
   ],
   "source": [
    "\n",
    "nltk.download('punkt')\n",
    "nltk.download('wordnet')\n",
    "nltk.download('stopwords')\n",
    "\n",
    "stop_words = set(stopwords.words('russian'))\n",
    "lemmatizer = WordNetLemmatizer()\n",
    "morph = pymorphy2.MorphAnalyzer()\n",
    "\n",
    "\n",
    "def preprocess_text(text):\n",
    "    # Токенизация\n",
    "    tokens = word_tokenize(text)\n",
    "\n",
    "    # Приведение к нижнему регистру\n",
    "    tokens = [token.lower() for token in tokens]\n",
    "\n",
    "    # Лемматизация\n",
    "    tokens = [lemmatizer.lemmatize(token) for token in tokens]\n",
    "\n",
    "    # Приведение к начальной форме\n",
    "    tokens = [morph.parse(token)[0].normal_form for token in tokens]\n",
    "\n",
    "    # Удаление стоп-слов\n",
    "    tokens = [token for token in tokens if token not in stop_words]\n",
    "\n",
    "    # Объединение токенов в строку\n",
    "    clean_text = ' '.join(tokens)\n",
    "\n",
    "    return clean_text\n",
    "\n",
    "\n",
    "df['clean_text'] = df['Посты'].apply(preprocess_text)\n"
   ]
  },
  {
   "cell_type": "code",
   "execution_count": 12,
   "metadata": {},
   "outputs": [
    {
     "data": {
      "text/html": [
       "<div>\n",
       "<style scoped>\n",
       "    .dataframe tbody tr th:only-of-type {\n",
       "        vertical-align: middle;\n",
       "    }\n",
       "\n",
       "    .dataframe tbody tr th {\n",
       "        vertical-align: top;\n",
       "    }\n",
       "\n",
       "    .dataframe thead th {\n",
       "        text-align: right;\n",
       "    }\n",
       "</style>\n",
       "<table border=\"1\" class=\"dataframe\">\n",
       "  <thead>\n",
       "    <tr style=\"text-align: right;\">\n",
       "      <th></th>\n",
       "      <th>Посты</th>\n",
       "      <th>Комментарии</th>\n",
       "      <th>clean_text</th>\n",
       "    </tr>\n",
       "  </thead>\n",
       "  <tbody>\n",
       "    <tr>\n",
       "      <th>0</th>\n",
       "      <td>Петербургский Пулково (LED) стал двадцатым аэр...</td>\n",
       "      <td>1</td>\n",
       "      <td>петербургский пулково ( led ) стать двадцатый ...</td>\n",
       "    </tr>\n",
       "    <tr>\n",
       "      <th>1</th>\n",
       "      <td>Выбравшая путь полной импортонезависимости в с...</td>\n",
       "      <td>1</td>\n",
       "      <td>выбрать путь полный импортонезависимость страт...</td>\n",
       "    </tr>\n",
       "    <tr>\n",
       "      <th>2</th>\n",
       "      <td>Компания \"Сирена\", ведущий российский поставщи...</td>\n",
       "      <td>1</td>\n",
       "      <td>компания `` сирена '' , ведущий российский пос...</td>\n",
       "    </tr>\n",
       "    <tr>\n",
       "      <th>3</th>\n",
       "      <td>Туркменская авиакомпания Turkmenistan Airlines...</td>\n",
       "      <td>1</td>\n",
       "      <td>туркменский авиакомпания turkmenistan airline ...</td>\n",
       "    </tr>\n",
       "    <tr>\n",
       "      <th>4</th>\n",
       "      <td>Кэмпбелл Уилсон, президент Air India, в очеред...</td>\n",
       "      <td>1</td>\n",
       "      <td>кэмпбелла уилсон , президент air india , очере...</td>\n",
       "    </tr>\n",
       "    <tr>\n",
       "      <th>...</th>\n",
       "      <td>...</td>\n",
       "      <td>...</td>\n",
       "      <td>...</td>\n",
       "    </tr>\n",
       "    <tr>\n",
       "      <th>993</th>\n",
       "      <td>🚋Один «Витязь» весит как 40 легковушек или ста...</td>\n",
       "      <td>7</td>\n",
       "      <td>🚋один « витязь » весить 40 легковушка стадо по...</td>\n",
       "    </tr>\n",
       "    <tr>\n",
       "      <th>994</th>\n",
       "      <td>🐱Сотрудники «Организатора перевозок» взяли под...</td>\n",
       "      <td>1</td>\n",
       "      <td>🐱сотрудник « организатор перевозка » взять опе...</td>\n",
       "    </tr>\n",
       "    <tr>\n",
       "      <th>996</th>\n",
       "      <td>🖥В парках Мосгортранса начали пользоваться ПАК...</td>\n",
       "      <td>1</td>\n",
       "      <td>🖥в парка мосгортранс начать пользоваться пак —...</td>\n",
       "    </tr>\n",
       "    <tr>\n",
       "      <th>997</th>\n",
       "      <td>🚐Мосгортранс протестирует электробус малого кл...</td>\n",
       "      <td>19</td>\n",
       "      <td>🚐мосгортранс протестировать электробус малое к...</td>\n",
       "    </tr>\n",
       "    <tr>\n",
       "      <th>999</th>\n",
       "      <td>🎟В трамваях А контролеры подарили «Единые» — т...</td>\n",
       "      <td>1</td>\n",
       "      <td>🎟в трамвай контролёр подарить « единый » — хот...</td>\n",
       "    </tr>\n",
       "  </tbody>\n",
       "</table>\n",
       "<p>972 rows × 3 columns</p>\n",
       "</div>"
      ],
      "text/plain": [
       "                                                 Посты  Комментарии  \\\n",
       "0    Петербургский Пулково (LED) стал двадцатым аэр...            1   \n",
       "1    Выбравшая путь полной импортонезависимости в с...            1   \n",
       "2    Компания \"Сирена\", ведущий российский поставщи...            1   \n",
       "3    Туркменская авиакомпания Turkmenistan Airlines...            1   \n",
       "4    Кэмпбелл Уилсон, президент Air India, в очеред...            1   \n",
       "..                                                 ...          ...   \n",
       "993  🚋Один «Витязь» весит как 40 легковушек или ста...            7   \n",
       "994  🐱Сотрудники «Организатора перевозок» взяли под...            1   \n",
       "996  🖥В парках Мосгортранса начали пользоваться ПАК...            1   \n",
       "997  🚐Мосгортранс протестирует электробус малого кл...           19   \n",
       "999  🎟В трамваях А контролеры подарили «Единые» — т...            1   \n",
       "\n",
       "                                            clean_text  \n",
       "0    петербургский пулково ( led ) стать двадцатый ...  \n",
       "1    выбрать путь полный импортонезависимость страт...  \n",
       "2    компания `` сирена '' , ведущий российский пос...  \n",
       "3    туркменский авиакомпания turkmenistan airline ...  \n",
       "4    кэмпбелла уилсон , президент air india , очере...  \n",
       "..                                                 ...  \n",
       "993  🚋один « витязь » весить 40 легковушка стадо по...  \n",
       "994  🐱сотрудник « организатор перевозка » взять опе...  \n",
       "996  🖥в парка мосгортранс начать пользоваться пак —...  \n",
       "997  🚐мосгортранс протестировать электробус малое к...  \n",
       "999  🎟в трамвай контролёр подарить « единый » — хот...  \n",
       "\n",
       "[972 rows x 3 columns]"
      ]
     },
     "execution_count": 12,
     "metadata": {},
     "output_type": "execute_result"
    }
   ],
   "source": [
    "df"
   ]
  },
  {
   "cell_type": "code",
   "execution_count": 22,
   "metadata": {},
   "outputs": [
    {
     "name": "stdout",
     "output_type": "stream",
     "text": [
      "Epoch 1/10\n",
      "13/13 [==============================] - 2s 22ms/step - loss: 65.7057 - mae: 4.8839\n",
      "Epoch 2/10\n",
      "13/13 [==============================] - 0s 19ms/step - loss: 60.6451 - mae: 4.5000\n",
      "Epoch 3/10\n",
      "13/13 [==============================] - 0s 21ms/step - loss: 51.6212 - mae: 3.9422\n",
      "Epoch 4/10\n",
      "13/13 [==============================] - 0s 20ms/step - loss: 41.9745 - mae: 3.5829\n",
      "Epoch 5/10\n",
      "13/13 [==============================] - 0s 19ms/step - loss: 35.1649 - mae: 3.4509\n",
      "Epoch 6/10\n",
      "13/13 [==============================] - 0s 18ms/step - loss: 30.5630 - mae: 3.0758\n",
      "Epoch 7/10\n",
      "13/13 [==============================] - 0s 20ms/step - loss: 26.1853 - mae: 2.5253\n",
      "Epoch 8/10\n",
      "13/13 [==============================] - 0s 23ms/step - loss: 22.3461 - mae: 2.2298\n",
      "Epoch 9/10\n",
      "13/13 [==============================] - 0s 20ms/step - loss: 18.9460 - mae: 1.8542\n",
      "Epoch 10/10\n",
      "13/13 [==============================] - 0s 20ms/step - loss: 16.0621 - mae: 1.5870\n"
     ]
    },
    {
     "data": {
      "text/plain": [
       "<keras.callbacks.History at 0x197010d6bf0>"
      ]
     },
     "execution_count": 22,
     "metadata": {},
     "output_type": "execute_result"
    }
   ],
   "source": [
    "\n",
    "text_data = df['clean_text']\n",
    "labels = df['Комментарии']\n",
    "\n",
    "# Разделение данных на тренировочный и тестовый наборы\n",
    "X_train, X_test, y_train, y_test = train_test_split(\n",
    "    text_data, labels, test_size=0.2, random_state=42)\n",
    "\n",
    "# Векторизация текстовых данных\n",
    "vectorizer = TfidfVectorizer()\n",
    "X_train = vectorizer.fit_transform(X_train).toarray() \n",
    "X_test = vectorizer.transform(X_test).toarray()\n",
    "\n",
    "# Создание модели нейронной сети\n",
    "model = Sequential()\n",
    "model.add(Dense(100, activation='relu', input_dim=X_train.shape[1]))\n",
    "model.add(Dropout(0.2))\n",
    "model.add(Dense(64, activation='relu'))\n",
    "model.add(Dense(1, activation='linear'))\n",
    "\n",
    "# Компиляция модели\n",
    "model.compile(loss='mean_squared_error', optimizer='adam', metrics=['mae'])\n",
    "\n",
    "# Обучение модели\n",
    "model.fit(X_train, y_train, epochs=10, batch_size=64)\n",
    "\n"
   ]
  },
  {
   "cell_type": "code",
   "execution_count": 21,
   "metadata": {},
   "outputs": [
    {
     "name": "stdout",
     "output_type": "stream",
     "text": [
      "7/7 [==============================] - 0s 2ms/step - loss: 50.0647 - mae: 3.1415\n",
      "Test Loss: 50.064735412597656, Test MAE: 3.1414921283721924\n"
     ]
    }
   ],
   "source": [
    "loss, mae = model.evaluate(X_test, y_test)\n",
    "print(f'Test Loss: {loss}, Test MAE: {mae}')\n"
   ]
  }
 ],
 "metadata": {
  "kernelspec": {
   "display_name": "Python 3.10.4 64-bit",
   "language": "python",
   "name": "python3"
  },
  "language_info": {
   "codemirror_mode": {
    "name": "ipython",
    "version": 3
   },
   "file_extension": ".py",
   "mimetype": "text/x-python",
   "name": "python",
   "nbconvert_exporter": "python",
   "pygments_lexer": "ipython3",
   "version": "3.10.4"
  },
  "orig_nbformat": 4,
  "vscode": {
   "interpreter": {
    "hash": "52634da84371cba311ea128a5ea7cdc41ff074b781779e754b270ff9f8153cee"
   }
  }
 },
 "nbformat": 4,
 "nbformat_minor": 2
}
